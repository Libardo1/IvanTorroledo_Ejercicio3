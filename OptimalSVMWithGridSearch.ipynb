{
 "cells": [
  {
   "cell_type": "code",
   "execution_count": 118,
   "metadata": {
    "collapsed": false
   },
   "outputs": [],
   "source": [
    "import numpy as np\n",
    "import matplotlib.pyplot as plt\n",
    "from sklearn import svm\n",
    "from sklearn import datasets\n",
    "from sklearn.datasets import make_classification\n",
    "from sklearn.datasets import make_blobs, make_moons, make_circles\n",
    "from sklearn.model_selection import train_test_split\n",
    "from sklearn.metrics import confusion_matrix\n",
    "from sklearn import preprocessing\n",
    "%matplotlib inline"
   ]
  },
  {
   "cell_type": "code",
   "execution_count": 119,
   "metadata": {
    "collapsed": false,
    "scrolled": false
   },
   "outputs": [
    {
     "name": "stdout",
     "output_type": "stream",
     "text": [
      "Breast Cancer Wisconsin (Diagnostic) Database\n",
      "=============================================\n",
      "\n",
      "Notes\n",
      "-----\n",
      "Data Set Characteristics:\n",
      "    :Number of Instances: 569\n",
      "\n",
      "    :Number of Attributes: 30 numeric, predictive attributes and the class\n",
      "\n",
      "    :Attribute Information:\n",
      "        - radius (mean of distances from center to points on the perimeter)\n",
      "        - texture (standard deviation of gray-scale values)\n",
      "        - perimeter\n",
      "        - area\n",
      "        - smoothness (local variation in radius lengths)\n",
      "        - compactness (perimeter^2 / area - 1.0)\n",
      "        - concavity (severity of concave portions of the contour)\n",
      "        - concave points (number of concave portions of the contour)\n",
      "        - symmetry \n",
      "        - fractal dimension (\"coastline approximation\" - 1)\n",
      "\n",
      "        The mean, standard error, and \"worst\" or largest (mean of the three\n",
      "        largest values) of these features were computed for each image,\n",
      "        resulting in 30 features.  For instance, field 3 is Mean Radius, field\n",
      "        13 is Radius SE, field 23 is Worst Radius.\n",
      "\n",
      "        - class:\n",
      "                - WDBC-Malignant\n",
      "                - WDBC-Benign\n",
      "\n",
      "    :Summary Statistics:\n",
      "\n",
      "    ===================================== ====== ======\n",
      "                                           Min    Max\n",
      "    ===================================== ====== ======\n",
      "    radius (mean):                        6.981  28.11\n",
      "    texture (mean):                       9.71   39.28\n",
      "    perimeter (mean):                     43.79  188.5\n",
      "    area (mean):                          143.5  2501.0\n",
      "    smoothness (mean):                    0.053  0.163\n",
      "    compactness (mean):                   0.019  0.345\n",
      "    concavity (mean):                     0.0    0.427\n",
      "    concave points (mean):                0.0    0.201\n",
      "    symmetry (mean):                      0.106  0.304\n",
      "    fractal dimension (mean):             0.05   0.097\n",
      "    radius (standard error):              0.112  2.873\n",
      "    texture (standard error):             0.36   4.885\n",
      "    perimeter (standard error):           0.757  21.98\n",
      "    area (standard error):                6.802  542.2\n",
      "    smoothness (standard error):          0.002  0.031\n",
      "    compactness (standard error):         0.002  0.135\n",
      "    concavity (standard error):           0.0    0.396\n",
      "    concave points (standard error):      0.0    0.053\n",
      "    symmetry (standard error):            0.008  0.079\n",
      "    fractal dimension (standard error):   0.001  0.03\n",
      "    radius (worst):                       7.93   36.04\n",
      "    texture (worst):                      12.02  49.54\n",
      "    perimeter (worst):                    50.41  251.2\n",
      "    area (worst):                         185.2  4254.0\n",
      "    smoothness (worst):                   0.071  0.223\n",
      "    compactness (worst):                  0.027  1.058\n",
      "    concavity (worst):                    0.0    1.252\n",
      "    concave points (worst):               0.0    0.291\n",
      "    symmetry (worst):                     0.156  0.664\n",
      "    fractal dimension (worst):            0.055  0.208\n",
      "    ===================================== ====== ======\n",
      "\n",
      "    :Missing Attribute Values: None\n",
      "\n",
      "    :Class Distribution: 212 - Malignant, 357 - Benign\n",
      "\n",
      "    :Creator:  Dr. William H. Wolberg, W. Nick Street, Olvi L. Mangasarian\n",
      "\n",
      "    :Donor: Nick Street\n",
      "\n",
      "    :Date: November, 1995\n",
      "\n",
      "This is a copy of UCI ML Breast Cancer Wisconsin (Diagnostic) datasets.\n",
      "https://goo.gl/U2Uwz2\n",
      "\n",
      "Features are computed from a digitized image of a fine needle\n",
      "aspirate (FNA) of a breast mass.  They describe\n",
      "characteristics of the cell nuclei present in the image.\n",
      "\n",
      "Separating plane described above was obtained using\n",
      "Multisurface Method-Tree (MSM-T) [K. P. Bennett, \"Decision Tree\n",
      "Construction Via Linear Programming.\" Proceedings of the 4th\n",
      "Midwest Artificial Intelligence and Cognitive Science Society,\n",
      "pp. 97-101, 1992], a classification method which uses linear\n",
      "programming to construct a decision tree.  Relevant features\n",
      "were selected using an exhaustive search in the space of 1-4\n",
      "features and 1-3 separating planes.\n",
      "\n",
      "The actual linear program used to obtain the separating plane\n",
      "in the 3-dimensional space is that described in:\n",
      "[K. P. Bennett and O. L. Mangasarian: \"Robust Linear\n",
      "Programming Discrimination of Two Linearly Inseparable Sets\",\n",
      "Optimization Methods and Software 1, 1992, 23-34].\n",
      "\n",
      "This database is also available through the UW CS ftp server:\n",
      "\n",
      "ftp ftp.cs.wisc.edu\n",
      "cd math-prog/cpo-dataset/machine-learn/WDBC/\n",
      "\n",
      "References\n",
      "----------\n",
      "   - W.N. Street, W.H. Wolberg and O.L. Mangasarian. Nuclear feature extraction \n",
      "     for breast tumor diagnosis. IS&T/SPIE 1993 International Symposium on \n",
      "     Electronic Imaging: Science and Technology, volume 1905, pages 861-870,\n",
      "     San Jose, CA, 1993.\n",
      "   - O.L. Mangasarian, W.N. Street and W.H. Wolberg. Breast cancer diagnosis and \n",
      "     prognosis via linear programming. Operations Research, 43(4), pages 570-577, \n",
      "     July-August 1995.\n",
      "   - W.H. Wolberg, W.N. Street, and O.L. Mangasarian. Machine learning techniques\n",
      "     to diagnose breast cancer from fine-needle aspirates. Cancer Letters 77 (1994) \n",
      "     163-171.\n",
      "\n"
     ]
    }
   ],
   "source": [
    "# Loading data \n",
    "data = datasets.load_breast_cancer()\n",
    "print(data.DESCR)"
   ]
  },
  {
   "cell_type": "code",
   "execution_count": 120,
   "metadata": {
    "collapsed": false
   },
   "outputs": [],
   "source": [
    "# Splitting data into validation (0.2), test (0.8*0.2) & train sets (0.8*0.8)\n",
    "Y = data.target\n",
    "X = data.data\n",
    "\n",
    "X_validation, X_t, Y_validation, Y_t = train_test_split(X, Y, test_size=0.80, random_state=42)\n",
    "X_test, X_train, Y_test, Y_train = train_test_split(X_t, Y_t, test_size=0.80, random_state=42)"
   ]
  },
  {
   "cell_type": "code",
   "execution_count": 121,
   "metadata": {
    "collapsed": false
   },
   "outputs": [],
   "source": [
    "# Normalization of the data for features\n",
    "scaler = preprocessing.StandardScaler().fit(X_test)\n",
    "X_test = scaler.transform(X_test)\n",
    "\n",
    "scaler1 = preprocessing.StandardScaler().fit(X_train)\n",
    "X_train = scaler1.transform(X_train)\n",
    "\n",
    "scaler2 = preprocessing.StandardScaler().fit(X_validation)\n",
    "X_validation = scaler2.transform(X_validation)"
   ]
  },
  {
   "cell_type": "code",
   "execution_count": 122,
   "metadata": {
    "collapsed": false
   },
   "outputs": [],
   "source": [
    "ac_op = 1.0 # optimal rate of correct classification\n",
    "ft_op = 0.0 # optimal rate of false true classification\n",
    "\n",
    "# First metric - Euclidian \n",
    "\n",
    "def euclidian_norm(ft,ac):\n",
    "    return (ft-ft_op)**2+(ac-ac_op)**2 "
   ]
  },
  {
   "cell_type": "markdown",
   "metadata": {},
   "source": [
    "# Idea\n",
    "To know how the SVM method behaves through the state space of parameters, we will evaluate three types of kernels in a grid build as the cartesian product of variables:\n",
    "   1. Gaussian: gamma related with standard deviation and C related with the level of error we can allow.\n",
    "   2. Linear: C related with the level of error we can allow.\n",
    "   3. Polynomial: D Degree of polynomial and C related with the level of error we can allow.\n",
    "    "
   ]
  },
  {
   "cell_type": "markdown",
   "metadata": {},
   "source": [
    "# Gaussian Kernel\n",
    "---"
   ]
  },
  {
   "cell_type": "code",
   "execution_count": 123,
   "metadata": {
    "collapsed": false
   },
   "outputs": [],
   "source": [
    "N = 100 # num of points per variable \n",
    "delta = 0.1\n",
    "CMAX = 4.0\n",
    "CMIN = 0.001\n",
    "GAMMAMAX = 1.4\n",
    "GAMMAMIN = 0.001\n",
    "\n",
    "GAMMA = np.linspace(GAMMAMIN,GAMMAMAX,N)\n",
    "C = np.linspace(CMIN,CMAX,N)\n",
    "\n",
    "grid_ft = np.zeros((N,N)) # GAMMA vs C\n",
    "grid_ac = np.zeros((N,N)) # GAMMA vs C\n",
    "\n",
    "for i in range (0,N):\n",
    "    for j in range (0,N):\n",
    "        kernel_svc = svm.SVC(C=C[j], kernel='rbf', gamma=GAMMA[i])\n",
    "        kernel_svc.fit(X_train,Y_train)\n",
    "        Y_predict = kernel_svc.predict(X_test)\n",
    "        MAT = confusion_matrix(Y_test, Y_predict)\n",
    "        grid_ft[i][j] = MAT[1][0]/sum(sum(MAT))\n",
    "        grid_ac[i][j] = (MAT[0][0]+MAT[1][1]) / sum(sum(MAT))"
   ]
  },
  {
   "cell_type": "code",
   "execution_count": 124,
   "metadata": {
    "collapsed": false
   },
   "outputs": [],
   "source": [
    "gaussian_norm = euclidian_norm(grid_ft,grid_ac)"
   ]
  },
  {
   "cell_type": "code",
   "execution_count": 125,
   "metadata": {
    "collapsed": false
   },
   "outputs": [
    {
     "data": {
      "text/plain": [
       "<matplotlib.colorbar.Colorbar at 0x114d033c8>"
      ]
     },
     "execution_count": 125,
     "metadata": {},
     "output_type": "execute_result"
    },
    {
     "data": {
      "image/png": "[encoded data removed]",
      "text/plain": [
       "<matplotlib.figure.Figure at 0x1148dc4e0>"
      ]
     },
     "metadata": {},
     "output_type": "display_data"
    }
   ],
   "source": [
    "plt.clf()\n",
    "plt.pcolormesh(C,GAMMA,gaussian_norm)\n",
    "plt.ylabel('$\\gamma$')\n",
    "plt.xlabel('C')\n",
    "plt.colorbar()"
   ]
  },
  {
   "cell_type": "markdown",
   "metadata": {},
   "source": [
    "We can see that for small $\\gamma$ and for almost all values of C greater than 0.5 the Euclidian metric is nearly zero. So let calculate the tf and correct classification for minimun:"
   ]
  },
  {
   "cell_type": "code",
   "execution_count": 132,
   "metadata": {
    "collapsed": false
   },
   "outputs": [
    {
     "name": "stdout",
     "output_type": "stream",
     "text": [
      "Minimun of the metric   0.000483033450066\n",
      "\n",
      "Positions where metrics has this value:   \n",
      "\n",
      "C index : 24\n",
      "GAMMA index : 1\n"
     ]
    }
   ],
   "source": [
    "# print the positions over the grid where metric has a minimun \n",
    "print('Minimun of the metric   ' + str(gaussian_norm.min()))\n",
    "print('\\nPositions where metrics has this value:   \\n')\n",
    "index = np.array(np.where(gaussian_norm == gaussian_norm.min()))\n",
    "print('C index : '+str(index[1,1]))\n",
    "print('GAMMA index : '+str(index[0,1]))"
   ]
  },
  {
   "cell_type": "code",
   "execution_count": 136,
   "metadata": {
    "collapsed": false
   },
   "outputs": [
    {
     "name": "stdout",
     "output_type": "stream",
     "text": [
      "optimal C is : 0.970454545455\n",
      "optimal GAMMA is : 0.0151313131313\n",
      "\n",
      "metric : 0.000483033450066\n",
      "FT : 0.0 %\n",
      "Correct : 97.8021978022 %\n",
      "TF : 2.1978021978 %\n"
     ]
    }
   ],
   "source": [
    "# So let me choose the first (the lowest values of C & GAMMA)\n",
    "print('optimal C is : '+ str(C[index[1,1]]))\n",
    "print('optimal GAMMA is : '+ str(GAMMA[index[0,1]]))\n",
    "kernel_svc = svm.SVC(C=C[index[1,1]], kernel='rbf', gamma=GAMMA[index[0,1]])\n",
    "kernel_svc.fit(X_train,Y_train)\n",
    "Y_predict = kernel_svc.predict(X_test)\n",
    "\n",
    "MAT = confusion_matrix(Y_test, Y_predict)\n",
    "FT_G = MAT[1][0]/sum(sum(MAT))\n",
    "CORRECT_G = (MAT[0][0] + MAT[1][1]) / sum(sum(MAT))\n",
    "TF_G = MAT[0][1] / sum(sum(MAT))\n",
    "print('\\nmetric : ' +str(euclidian_norm(FT_G,CORRECT_G)))\n",
    "print('FT : ' + str(FT_G*100)+' %')\n",
    "print('Correct : ' + str(CORRECT_G*100)+' %')\n",
    "print('TF : ' + str(TF_G *100)+' %')"
   ]
  },
  {
   "cell_type": "markdown",
   "metadata": {},
   "source": [
    "# Lineal Kernel\n",
    "---"
   ]
  },
  {
   "cell_type": "code",
   "execution_count": 137,
   "metadata": {
    "collapsed": false
   },
   "outputs": [],
   "source": [
    "N = 10000 # num of points per variable \n",
    "CMAX = 2.0\n",
    "CMIN = 0.001\n",
    "\n",
    "C = np.linspace(CMIN,CMAX,N)\n",
    "\n",
    "grid_ft = np.zeros(N) \n",
    "grid_ac = np.zeros(N) \n",
    "\n",
    "for i in range (0,N):\n",
    "    linear_svc = svm.SVC(C=C[i], kernel='linear')\n",
    "    linear_svc.fit(X_train,Y_train)\n",
    "    Y_predict = kernel_svc.predict(X_test)\n",
    "    MAT = confusion_matrix(Y_test, Y_predict)\n",
    "    grid_ft[i] = MAT[1][0]/sum(sum(MAT))\n",
    "    grid_ac[i] = (MAT[0][0]+MAT[1][1]) / sum(sum(MAT))"
   ]
  },
  {
   "cell_type": "code",
   "execution_count": 138,
   "metadata": {
    "collapsed": false
   },
   "outputs": [],
   "source": [
    "linear_norm = euclidian_norm(grid_ft,grid_ac)"
   ]
  },
  {
   "cell_type": "code",
   "execution_count": 140,
   "metadata": {
    "collapsed": false
   },
   "outputs": [
    {
     "data": {
      "text/plain": [
       "<matplotlib.text.Text at 0x114e77588>"
      ]
     },
     "execution_count": 140,
     "metadata": {},
     "output_type": "execute_result"
    },
    {
     "data": {
      "image/png": "[encoded data removed]",
      "text/plain": [
       "<matplotlib.figure.Figure at 0x114e59978>"
      ]
     },
     "metadata": {},
     "output_type": "display_data"
    }
   ],
   "source": [
    "plt.plot(C,linear_norm)\n",
    "plt.ylabel('Eucliden Norm')\n",
    "plt.xlabel('C')"
   ]
  },
  {
   "cell_type": "markdown",
   "metadata": {},
   "source": [
    "We can see that for all values of C the Euclidian metric has the same value. So let calculate the tf and correct classification for any:"
   ]
  },
  {
   "cell_type": "code",
   "execution_count": 148,
   "metadata": {
    "collapsed": false
   },
   "outputs": [
    {
     "name": "stdout",
     "output_type": "stream",
     "text": [
      "Minimun of the metric   0.000483033450066\n",
      "\n",
      "Positions where metrics has this value:   \n",
      "\n",
      "C index : [1]\n"
     ]
    }
   ],
   "source": [
    "# print the positions over the grid where metric has a minimun \n",
    "print('Minimun of the metric   ' + str(linear_norm.min()))\n",
    "print('\\nPositions where metrics has this value:   \\n')\n",
    "index = np.array(np.where(linear_norm == linear_norm.min()))\n",
    "print('C index : ' +str(index[:,1]))"
   ]
  },
  {
   "cell_type": "code",
   "execution_count": 149,
   "metadata": {
    "collapsed": false
   },
   "outputs": [
    {
     "name": "stdout",
     "output_type": "stream",
     "text": [
      "optimal C is : [ 0.00119992]\n",
      "\n",
      "metric : 0.000483033450066\n",
      "FT : 0.0 %\n",
      "Correct : 97.8021978022 %\n",
      "TF : 2.1978021978 %\n"
     ]
    }
   ],
   "source": [
    "print('optimal C is : '+ str(C[index[:,1]]))\n",
    "linear_svc = svm.SVC(C=C[index[:,1]], kernel='linear')\n",
    "kernel_svc.fit(X_train,Y_train)\n",
    "Y_predict = kernel_svc.predict(X_test)\n",
    "MAT = confusion_matrix(Y_test, Y_predict)\n",
    "FT_L = MAT[1][0]/sum(sum(MAT))\n",
    "CORRECT_L = (MAT[0][0] + MAT[1][1]) / sum(sum(MAT))\n",
    "TF_L = MAT[0][1] / sum(sum(MAT))\n",
    "print('\\nmetric : ' +str(euclidian_norm(FT_L,CORRECT_L)))\n",
    "print('FT : ' + str(FT_L*100)+' %')\n",
    "print('Correct : ' + str(CORRECT_L*100)+' %')\n",
    "print('TF : ' + str(TF_L *100)+' %')"
   ]
  },
  {
   "cell_type": "markdown",
   "metadata": {},
   "source": [
    "# Polynomial\n",
    "---"
   ]
  },
  {
   "cell_type": "code",
   "execution_count": 163,
   "metadata": {
    "collapsed": false
   },
   "outputs": [],
   "source": [
    "N = 1000  \n",
    "CMAX = 2.0\n",
    "CMIN = 0.001\n",
    "DMIN = 0\n",
    "DMAX = 11\n",
    "DN = DMAX-DMIN\n",
    "C = np.linspace(CMIN,CMAX,N)\n",
    "D = np.arange(DMIN,DMAX)\n",
    "\n",
    "grid_ft = np.zeros((N,DN)) \n",
    "grid_ac = np.zeros((N,DN)) \n",
    "for i in range (0,N):\n",
    "    for j in range (0,DN):\n",
    "        kernel_svc = svm.SVC(C=C[i], kernel='poly', degree=D[j])\n",
    "        kernel_svc.fit(X_train,Y_train)\n",
    "        Y_predict = kernel_svc.predict(X_test)\n",
    "        MAT = confusion_matrix(Y_test, Y_predict)\n",
    "        grid_ft[i][j] = MAT[1][0]/sum(sum(MAT))\n",
    "        grid_ac[i][j] = (MAT[0][0]+MAT[1][1]) / sum(sum(MAT))"
   ]
  },
  {
   "cell_type": "code",
   "execution_count": 164,
   "metadata": {
    "collapsed": true
   },
   "outputs": [],
   "source": [
    "poly_norm = euclidian_norm(grid_ft,grid_ac)"
   ]
  },
  {
   "cell_type": "code",
   "execution_count": 165,
   "metadata": {
    "collapsed": false
   },
   "outputs": [
    {
     "data": {
      "text/plain": [
       "<matplotlib.colorbar.Colorbar at 0x115f32860>"
      ]
     },
     "execution_count": 165,
     "metadata": {},
     "output_type": "execute_result"
    },
    {
     "data": {
      "image/png": "[encoded data removed]",
      "text/plain": [
       "<matplotlib.figure.Figure at 0x115c9c080>"
      ]
     },
     "metadata": {},
     "output_type": "display_data"
    }
   ],
   "source": [
    "plt.pcolormesh(D,C,poly_norm)\n",
    "plt.ylabel('C')\n",
    "plt.xlabel('Degree')\n",
    "plt.colorbar()"
   ]
  },
  {
   "cell_type": "markdown",
   "metadata": {},
   "source": [
    "We can see that for small Degree (1) of polynomial and for almost all values of C the Euclidian metric is nearly zero. In the case of 0 Degree of polynomial it shows that the model has no adjustment. So let calculate the tf and correct classification for minimun:"
   ]
  },
  {
   "cell_type": "code",
   "execution_count": 166,
   "metadata": {
    "collapsed": false
   },
   "outputs": [
    {
     "name": "stdout",
     "output_type": "stream",
     "text": [
      "Minimun of the metric   0.00108682526265\n",
      "\n",
      "Positions where metrics has this value:   \n",
      "\n",
      "DEGREE index : 1\n",
      "C index : 166\n"
     ]
    }
   ],
   "source": [
    "# print the positions over the grid where metric has a minimun \n",
    "print('Minimun of the metric   ' + str(poly_norm.min()))\n",
    "print('\\nPositions where metrics has this value:   \\n')\n",
    "index = np.array(np.where(poly_norm == poly_norm.min()))\n",
    "print('DEGREE index : '+str(index[1,1]))\n",
    "print('C index : '+str(index[0,1]))"
   ]
  },
  {
   "cell_type": "code",
   "execution_count": 167,
   "metadata": {
    "collapsed": false
   },
   "outputs": [
    {
     "name": "stdout",
     "output_type": "stream",
     "text": [
      "optimal C is : 0.333166166166\n",
      "optimal Degree is : 1\n",
      "\n",
      "metric : 0.00108682526265\n",
      "FT : 0.0 %\n",
      "Correct : 96.7032967033 %\n",
      "TF : 3.2967032967 %\n"
     ]
    }
   ],
   "source": [
    "# So let me choose the first (the lowest values of C & GAMMA)\n",
    "print('optimal C is : '+ str(C[index[0,1]]))\n",
    "print('optimal Degree is : '+ str(D[index[1,1]]))\n",
    "kernel_svc = svm.SVC(C=C[index[0,1]], kernel='poly', degree=D[index[1,1]])\n",
    "kernel_svc.fit(X_train,Y_train)\n",
    "Y_predict = kernel_svc.predict(X_test)\n",
    "MAT = confusion_matrix(Y_test, Y_predict)\n",
    "FT_P = MAT[1][0]/sum(sum(MAT))\n",
    "CORRECT_P = (MAT[0][0] + MAT[1][1]) / sum(sum(MAT))\n",
    "TF_P = MAT[0][1] / sum(sum(MAT))\n",
    "print('\\nmetric : ' +str(euclidian_norm(FT_P,CORRECT_P)))\n",
    "print('FT : ' + str(FT_P*100)+' %')\n",
    "print('Correct : ' + str(CORRECT_P*100)+' %')\n",
    "print('TF : ' + str(TF_P *100)+' %')"
   ]
  },
  {
   "cell_type": "code",
   "execution_count": null,
   "metadata": {
    "collapsed": false
   },
   "outputs": [],
   "source": []
  },
  {
   "cell_type": "code",
   "execution_count": null,
   "metadata": {
    "collapsed": true
   },
   "outputs": [],
   "source": []
  },
  {
   "cell_type": "code",
   "execution_count": null,
   "metadata": {
    "collapsed": true
   },
   "outputs": [],
   "source": []
  }
 ],
 "metadata": {
  "anaconda-cloud": {},
  "kernelspec": {
   "display_name": "Python [Root]",
   "language": "python",
   "name": "Python [Root]"
  },
  "language_info": {
   "codemirror_mode": {
    "name": "ipython",
    "version": 3
   },
   "file_extension": ".py",
   "mimetype": "text/x-python",
   "name": "python",
   "nbconvert_exporter": "python",
   "pygments_lexer": "ipython3",
   "version": "3.5.2"
  }
 },
 "nbformat": 4,
 "nbformat_minor": 0
}
